{
  "nbformat": 4,
  "nbformat_minor": 0,
  "metadata": {
    "colab": {
      "provenance": []
    },
    "kernelspec": {
      "name": "python3",
      "display_name": "Python 3"
    },
    "language_info": {
      "name": "python"
    }
  },
  "cells": [
    {
      "cell_type": "markdown",
      "source": [
        "#Python Basics Questions\n"
      ],
      "metadata": {
        "id": "XZEoQc3NZgbk"
      }
    },
    {
      "cell_type": "markdown",
      "source": [
        "**1- What is Python, and why is it popular?**\n",
        "\n",
        "  -Python is a high-level, interpreted programming language known for its simplicity, readability, and versatility. It was created by Guido van Rossum and first released in 1991. Python emphasizes code readability with its use of significant indentation and a clean, easy-to-understand syntax.\n",
        "\n",
        "  Why is Python Popular?\n",
        "\n",
        "  -Easy to Learn & Use – Python has a simple syntax that resembles English, making it beginner-friendly.\n",
        "\n",
        "  -Versatile – It is used in various fields like web development, data science, machine learning, automation, and more.\n",
        "\n",
        "  -Large Community & Support – A vast community provides extensive support, libraries, and frameworks.\n",
        "\n",
        "  -Rich Libraries & Frameworks – Libraries like NumPy, Pandas, TensorFlow, Flask, and Django make development easier.\n",
        "\n",
        "  -Cross-Platform – Runs on multiple operating systems (Windows, macOS, Linux, etc.).\n",
        "\n",
        "  -Strong Industry Demand – Many companies use Python for data analysis, AI, backend development, and more.\n",
        "\n",
        "**2. What is an interpreter in Python**\n",
        "\n",
        "-An interpreter in Python is a program that executes Python code line by line, translating it into machine code that the computer can understand. Unlike compiled languages (like C or Java), where the entire code is compiled before execution, Python’s interpreter processes each line sequentially.\n",
        "\n",
        "Key Features of the Python Interpreter:\n",
        "\n",
        "-Interactive Execution – You can run Python commands one at a time in the interactive shell (python or python3 in the terminal).\n",
        "\n",
        "-Platform-Independent – The interpreter works across different operating systems (Windows, macOS, Linux).\n",
        "\n",
        "-Dynamic Typing – Variables are assigned data types at runtime.\n",
        "\n",
        "-Error Handling – If an error is encountered, the interpreter stops execution and displays an error message.\n",
        "\n",
        "**3. What are pre-defined keywords in Python**\n",
        "\n",
        "-Python keywords are reserved words that have special meanings and cannot be used as variable names, function names, or identifiers. They are fundamental to Python's syntax and structure.\n",
        "\n",
        "**4. Can keywords be used as variable names**\n",
        "\n",
        "-No, keywords cannot be used as variable names in Python. Since they have special meanings in the language, using them as variable names would cause syntax errors.\n",
        "\n",
        "**5. What is mutability in Python**\n",
        "\n",
        "-Mutability refers to whether an object’s state (its contents) can be changed after it is created. In Python, objects are classified as mutable (changeable) or immutable (unchangeable).\n",
        "\n",
        "**6. Why are lists mutable, but tuples are immutable**\n",
        "\n",
        "-Lists are mutable because they are implemented as dynamic arrays. Python allows modifying lists without changing their memory reference.\n",
        "\n",
        "-Tuples are immutable because they are stored in a fixed memory block, making them faster and more memory-efficient.\n",
        "\n",
        "**7. What is the difference between “==” and “is” operators in Python**\n",
        "\n",
        "-Both == and is are comparison operators in Python, but they serve different purposes.\n",
        "\n",
        "- == (Value Equality)\n",
        "Compares values of two objects.\n",
        "\n",
        "Even if two different objects have the same value, == will return True.\n",
        "\n",
        "- is (Identity Equality)\n",
        "Checks if two variables point to the same memory location.\n",
        "\n",
        "Used when checking if two variables refer to the exact same object.\n",
        "\n",
        "\n",
        "**8. What are logical operators in Python**\n",
        "\n",
        "-Logical operators in Python are used to combine Boolean expressions and return True or False based on conditions.\n",
        "\n",
        "-and Operator (Logical AND)\n",
        " Returns True only if both conditions are True.\n",
        "\n",
        " Otherwise, it returns False.\n",
        "\n",
        " -or Operator (Logical OR)\n",
        "\n",
        " Returns True if at least one condition is True.\n",
        "\n",
        " Returns False only if both conditions are False.\n",
        "\n",
        "-not Operator (Logical NOT)\n",
        "\n",
        ".Reverses a Boolean value (True → False, False → True).\n",
        "\n",
        "**9. What is type casting in Python**\n",
        "\n",
        "-Type casting (type conversion) is the process of converting one data type into another. Python provides two types of type casting:\n",
        "\n",
        "Implicit Type Casting (Automatic conversion by Python)\n",
        "\n",
        "Explicit Type Casting (Manual conversion by the programmer)\n",
        "\n",
        "**10. What is the difference between implicit and explicit type casting**\n",
        "\n",
        "-Type casting (or type conversion) is the process of converting one data type into another. Python provides two types of type casting:\n",
        "\n",
        "-Implicit Type Casting :\n",
        " Definition-Automatic conversion by Python\n",
        "\n",
        " When It Happens -When there is no risk of data loss\n",
        "\n",
        " Data Loss-No data loss\n",
        "\n",
        " Example Conversion-int → float, float → complex\n",
        "\n",
        " Requires a Function- No\n",
        "\n",
        " -Explicit Type Casting:\n",
        "\n",
        " Definition-Manual conversion by the programmer\n",
        "\n",
        " When It Happens -When Python does not automatically convert\n",
        "\n",
        " Data Loss-Possible data loss\n",
        "\n",
        " Example Conversion-float → int, str → int, list → tuple\n",
        "\n",
        " Requires a Function- Yes (e.g., int(), float(), str())\n",
        "\n",
        " **11. What is the purpose of conditional statements in Python**\n",
        "\n",
        " -Conditional statements allow a program to make decisions based on conditions. They help control the flow of execution by executing different blocks of code depending on whether a condition is True or False.\n",
        "\n",
        " **12. How does the elif statement work**\n",
        "\n",
        " -The elif (short for \"else if\") statement is used when multiple conditions need to be checked sequentially. It allows a program to execute only one block of code from multiple possible options.\n",
        "\n",
        " -How elif Works\n",
        "\n",
        " Python checks each condition from top to bottom.\n",
        "\n",
        " If a condition is True, the corresponding block executes, and the rest of the conditions are skipped.\n",
        "\n",
        " If none of the conditions are True, the else block executes (if present).\n",
        "\n",
        "**13. What is the difference between for and while loops**\n",
        "\n",
        "-Both for and while loops are used for iteration, but they work differently.\n",
        "\n",
        "-for Loop (Iteration Over a Sequence)\n",
        "Used when you know how many times the loop should run.\n",
        "\n",
        "Works well with lists, tuples, strings, and the range() function.\n",
        "\n",
        "-while Loop (Condition-Based Looping)\n",
        "Used when you don’t know in advance how many times to iterate.\n",
        "\n",
        "The loop continues as long as the condition is True.\n",
        "\n",
        "**14. Describe a scenario where a while loop is more suitable than a for loop**\n",
        "\n",
        "-Scenario: User Login System (Unlimited Attempts Until Correct)\n",
        "A while loop is best when the number of iterations is unknown in advance and depends on a condition.\n",
        "\n",
        "-Why Use a while Loop:\n",
        "\n",
        "The number of attempts is unknown in advance.\n",
        "\n",
        "The loop only stops when the condition is met (user enters the correct password).\n",
        "\n",
        "A for loop is not ideal because we don’t have a predefined range of attempts.\n",
        "\n",
        "**Practical Questions**\n",
        "\n",
        "**1.Write a Python program to print \"Hello, World!_**\n",
        "\n",
        "\n",
        "\n",
        "\n",
        "\n",
        "\n",
        "-\n",
        "\n",
        "\n",
        "\n",
        "\n",
        "\n",
        "\n",
        "\n",
        "\n",
        "\n",
        "\n"
      ],
      "metadata": {
        "id": "fbxsyzgpcNJT"
      }
    },
    {
      "cell_type": "code",
      "source": [
        "print(\"Hello, World!\")\n"
      ],
      "metadata": {
        "colab": {
          "base_uri": "https://localhost:8080/"
        },
        "id": "70KfD2n1n1MW",
        "outputId": "616eaa46-82d3-4d30-b756-2ccce70bacba"
      },
      "execution_count": 1,
      "outputs": [
        {
          "output_type": "stream",
          "name": "stdout",
          "text": [
            "Hello, World!\n"
          ]
        }
      ]
    },
    {
      "cell_type": "markdown",
      "source": [
        "**2.Write a Python program that displays your name and age**\n",
        "\n",
        "\n",
        "\n"
      ],
      "metadata": {
        "id": "uxVrU317oYXr"
      }
    },
    {
      "cell_type": "markdown",
      "source": [],
      "metadata": {
        "id": "mg5Tj9cmpTEx"
      }
    },
    {
      "cell_type": "code",
      "source": [
        "# Define name and age variables\n",
        "name = \"Bibhu Datta\"\n",
        "age = 35\n",
        "\n",
        "# Print the output\n",
        "print(\"My name is\", name)\n",
        "print(\"I am\", age, \"years old\")\n"
      ],
      "metadata": {
        "colab": {
          "base_uri": "https://localhost:8080/"
        },
        "id": "DK2Z07FDopRX",
        "outputId": "af43aac3-9997-481c-d893-fc1bef306a97"
      },
      "execution_count": 2,
      "outputs": [
        {
          "output_type": "stream",
          "name": "stdout",
          "text": [
            "My name is Bibhu Datta\n",
            "I am 35 years old\n"
          ]
        }
      ]
    },
    {
      "cell_type": "markdown",
      "source": [
        "**3.Write code to print all the pre-defined keywords in Python using the keyword library**\n",
        "\n"
      ],
      "metadata": {
        "id": "H3ljdwM1oOA3"
      }
    },
    {
      "cell_type": "code",
      "source": [
        "import keyword\n",
        "\n",
        "# Get and print the list of all Python keywords\n",
        "print(\"Python Keywords:\")\n",
        "print(keyword.kwlist)\n"
      ],
      "metadata": {
        "colab": {
          "base_uri": "https://localhost:8080/"
        },
        "id": "o7RzggqNpwmQ",
        "outputId": "e341038f-427d-4505-be65-f50301b80a49"
      },
      "execution_count": 3,
      "outputs": [
        {
          "output_type": "stream",
          "name": "stdout",
          "text": [
            "Python Keywords:\n",
            "['False', 'None', 'True', 'and', 'as', 'assert', 'async', 'await', 'break', 'class', 'continue', 'def', 'del', 'elif', 'else', 'except', 'finally', 'for', 'from', 'global', 'if', 'import', 'in', 'is', 'lambda', 'nonlocal', 'not', 'or', 'pass', 'raise', 'return', 'try', 'while', 'with', 'yield']\n"
          ]
        }
      ]
    },
    {
      "cell_type": "markdown",
      "source": [
        "**4.Write a program that checks if a given word is a Python keyword**\n",
        "\n",
        "\n",
        "\n"
      ],
      "metadata": {
        "id": "uugP_-bCqE7j"
      }
    },
    {
      "cell_type": "code",
      "source": [
        "import keyword\n",
        "\n",
        "# Get user input\n",
        "word = input(\"Enter a word: \")\n",
        "\n",
        "# Check if the word is a Python keyword\n",
        "if keyword.iskeyword(word):\n",
        "    print(f\"'{word}' is a Python keyword.\")\n",
        "else:\n",
        "    print(f\"'{word}' is NOT a Python keyword.\")\n"
      ],
      "metadata": {
        "colab": {
          "base_uri": "https://localhost:8080/"
        },
        "id": "ZA1Z1N7-qP6R",
        "outputId": "02520279-c037-4c92-e9e9-c2c478185eeb"
      },
      "execution_count": 6,
      "outputs": [
        {
          "output_type": "stream",
          "name": "stdout",
          "text": [
            "Enter a word: while\n",
            "'while' is a Python keyword.\n"
          ]
        }
      ]
    },
    {
      "cell_type": "markdown",
      "source": [
        "**5.Write a program that checks if a given word is a Python keywordCreate a list and tuple in Python, and demonstrate how attempting to change an element works differently for each**\n",
        "\n",
        "\n"
      ],
      "metadata": {
        "id": "efHaHDturDdF"
      }
    },
    {
      "cell_type": "code",
      "source": [
        "# Creating a list (mutable)\n",
        "my_list = [10, 20, 30]\n",
        "print(\"Original List:\", my_list)\n",
        "\n",
        "# Modifying an element in the list\n",
        "my_list[1] = 25  # Changing value at index 1\n",
        "print(\"Modified List:\", my_list)\n",
        "\n",
        "# Creating a tuple (immutable)\n",
        "my_tuple = (10, 20, 30)\n",
        "print(\"\\nOriginal Tuple:\", my_tuple)\n",
        "\n",
        "# Attempting to modify an element in the tuple\n",
        "try:\n",
        "    my_tuple[1] = 25  # This will cause an error\n",
        "except TypeError as e:\n",
        "    print(\"Error:\", e)\n"
      ],
      "metadata": {
        "colab": {
          "base_uri": "https://localhost:8080/"
        },
        "id": "oQT3WJwdrT4x",
        "outputId": "21ddcb87-32d8-468c-ce23-c1cecb0bcf0b"
      },
      "execution_count": 7,
      "outputs": [
        {
          "output_type": "stream",
          "name": "stdout",
          "text": [
            "Original List: [10, 20, 30]\n",
            "Modified List: [10, 25, 30]\n",
            "\n",
            "Original Tuple: (10, 20, 30)\n",
            "Error: 'tuple' object does not support item assignment\n"
          ]
        }
      ]
    },
    {
      "cell_type": "markdown",
      "source": [
        "**6.Write a function to demonstrate the behavior of mutable and immutable arguments**\n",
        "\n"
      ],
      "metadata": {
        "id": "IlyoUvD4rvMk"
      }
    },
    {
      "cell_type": "code",
      "source": [
        "def modify_values(num, lst):\n",
        "    # Trying to modify an immutable integer\n",
        "    num += 10  # Creates a new integer object (does NOT affect original value)\n",
        "\n",
        "    # Modifying a mutable list\n",
        "    lst.append(4)  # Modifies the existing list (affects original list)\n",
        "\n",
        "    print(\"Inside function - num:\", num)\n",
        "    print(\"Inside function - lst:\", lst)\n",
        "\n",
        "# Immutable argument\n",
        "x = 5\n",
        "# Mutable argument\n",
        "my_list = [1, 2, 3]\n",
        "\n",
        "print(\"Before function call - x:\", x)\n",
        "print(\"Before function call - my_list:\", my_list)\n",
        "\n",
        "# Calling function\n",
        "modify_values(x, my_list)\n",
        "\n",
        "print(\"After function call - x:\", x)       # x remains unchanged\n",
        "print(\"After function call - my_list:\", my_list)  # List is modified\n"
      ],
      "metadata": {
        "colab": {
          "base_uri": "https://localhost:8080/"
        },
        "id": "Hfd5Q4opxoyo",
        "outputId": "4f7cf0cc-de8e-4f55-d3ff-023fe59b9060"
      },
      "execution_count": 8,
      "outputs": [
        {
          "output_type": "stream",
          "name": "stdout",
          "text": [
            "Before function call - x: 5\n",
            "Before function call - my_list: [1, 2, 3]\n",
            "Inside function - num: 15\n",
            "Inside function - lst: [1, 2, 3, 4]\n",
            "After function call - x: 5\n",
            "After function call - my_list: [1, 2, 3, 4]\n"
          ]
        }
      ]
    },
    {
      "cell_type": "markdown",
      "source": [
        "**7.Write a function to demonstrate the behavior of mutable and immutable arguments**\n",
        "\n"
      ],
      "metadata": {
        "id": "FgxeSMXXpQaE"
      }
    },
    {
      "cell_type": "code",
      "source": [
        "def modify_values(num, lst):\n",
        "    # Trying to modify an immutable integer\n",
        "    num += 10  # Creates a new integer object (does NOT affect original value)\n",
        "\n",
        "    # Modifying a mutable list\n",
        "    lst.append(4)  # Modifies the existing list (affects original list)\n",
        "\n",
        "    print(\"Inside function - num:\", num)\n",
        "    print(\"Inside function - lst:\", lst)\n",
        "\n",
        "# Immutable argument\n",
        "x = 5\n",
        "# Mutable argument\n",
        "my_list = [1, 2, 3]\n",
        "\n",
        "print(\"Before function call - x:\", x)\n",
        "print(\"Before function call - my_list:\", my_list)\n",
        "\n",
        "# Calling function\n",
        "modify_values(x, my_list)\n",
        "\n",
        "print(\"After function call - x:\", x)       # x remains unchanged\n",
        "print(\"After function call - my_list:\", my_list)  # List is modified\n"
      ],
      "metadata": {
        "colab": {
          "base_uri": "https://localhost:8080/"
        },
        "id": "xIGqWuHjyu6Z",
        "outputId": "b75f28d4-e36a-4a97-a690-1c9a97533e42"
      },
      "execution_count": 9,
      "outputs": [
        {
          "output_type": "stream",
          "name": "stdout",
          "text": [
            "Before function call - x: 5\n",
            "Before function call - my_list: [1, 2, 3]\n",
            "Inside function - num: 15\n",
            "Inside function - lst: [1, 2, 3, 4]\n",
            "After function call - x: 5\n",
            "After function call - my_list: [1, 2, 3, 4]\n"
          ]
        }
      ]
    },
    {
      "cell_type": "markdown",
      "source": [
        "**8.Write a program to demonstrate the use of logical operators**\n",
        "\n"
      ],
      "metadata": {
        "id": "DrKPv9pBdwNa"
      }
    },
    {
      "cell_type": "code",
      "source": [
        "# Taking user input\n",
        "age = int(input(\"Enter your age: \"))\n",
        "has_license = input(\"Do you have a driving license? (yes/no): \").lower() == \"yes\"\n",
        "\n",
        "# Using 'and' operator\n",
        "if age >= 18 and has_license:\n",
        "    print(\"✅ You can drive!\")\n",
        "else:\n",
        "    print(\"❌ You cannot drive.\")\n",
        "\n",
        "# Using 'or' operator\n",
        "is_weekend = input(\"Is it the weekend? (yes/no): \").lower() == \"yes\"\n",
        "is_holiday = input(\"Is it a holiday? (yes/no): \").lower() == \"yes\"\n",
        "\n",
        "if is_weekend or is_holiday:\n",
        "    print(\"🎉 You can relax today!\")\n",
        "else:\n",
        "    print(\"⏳ Time for work or school!\")\n",
        "\n",
        "# Using 'not' operator\n",
        "raining = input(\"Is it raining? (yes/no): \").lower() == \"yes\"\n",
        "\n",
        "if not raining:\n",
        "    print(\"🌞 You can go outside!\")\n",
        "else:\n",
        "    print(\"☔ Better take an umbrella.\")\n"
      ],
      "metadata": {
        "colab": {
          "base_uri": "https://localhost:8080/"
        },
        "id": "zJ3b_Ne-zmak",
        "outputId": "bcba5f87-d29c-4275-b242-2e837d38287b"
      },
      "execution_count": 11,
      "outputs": [
        {
          "output_type": "stream",
          "name": "stdout",
          "text": [
            "Enter your age: 35\n",
            "Do you have a driving license? (yes/no): yes\n",
            "✅ You can drive!\n",
            "Is it the weekend? (yes/no): yes\n",
            "Is it a holiday? (yes/no): yes\n",
            "🎉 You can relax today!\n",
            "Is it raining? (yes/no): yes\n",
            "☔ Better take an umbrella.\n"
          ]
        }
      ]
    },
    {
      "cell_type": "code",
      "source": [],
      "metadata": {
        "id": "659YUzPUzSB5"
      },
      "execution_count": null,
      "outputs": []
    },
    {
      "cell_type": "markdown",
      "source": [],
      "metadata": {
        "id": "_wcLv_MtZjt1"
      }
    },
    {
      "cell_type": "markdown",
      "source": [
        "**9.Write a Python program to convert user input from string to integer, float, and boolean types**\n",
        "\n"
      ],
      "metadata": {
        "id": "VuRhsdM_Zpus"
      }
    },
    {
      "cell_type": "code",
      "source": [
        "# Taking user input as a string\n",
        "user_input = input(\"Enter a number: \")\n",
        "\n",
        "# Converting to Integer\n",
        "int_value = int(user_input)\n",
        "\n",
        "# Converting to Float\n",
        "float_value = float(user_input)\n",
        "\n",
        "# Converting to Boolean\n",
        "bool_value = bool(int_value)  # 0 becomes False, all other numbers become True\n",
        "\n",
        "# Displaying the converted values\n",
        "print(f\"String Input: {user_input} (Type: {type(user_input)})\")\n",
        "print(f\"Integer: {int_value} (Type: {type(int_value)})\")\n",
        "print(f\"Float: {float_value} (Type: {type(float_value)})\")\n",
        "print(f\"Boolean: {bool_value} (Type: {type(bool_value)})\")\n"
      ],
      "metadata": {
        "colab": {
          "base_uri": "https://localhost:8080/"
        },
        "id": "ixWM4rvh0rEg",
        "outputId": "76b2cac8-2fdf-4404-aa5c-b303132181c4"
      },
      "execution_count": 12,
      "outputs": [
        {
          "output_type": "stream",
          "name": "stdout",
          "text": [
            "Enter a number: 10\n",
            "String Input: 10 (Type: <class 'str'>)\n",
            "Integer: 10 (Type: <class 'int'>)\n",
            "Float: 10.0 (Type: <class 'float'>)\n",
            "Boolean: True (Type: <class 'bool'>)\n"
          ]
        }
      ]
    },
    {
      "cell_type": "markdown",
      "source": [
        "**10.Write code to demonstrate type casting with list elements**\n",
        "\n",
        "-Type casting is useful when converting list elements from one data type to another, such as from strings to integers, floats, or booleans."
      ],
      "metadata": {
        "id": "HiLLjf1D1Fju"
      }
    },
    {
      "cell_type": "code",
      "execution_count": 13,
      "metadata": {
        "id": "vWC5ubxXAQXY",
        "colab": {
          "base_uri": "https://localhost:8080/"
        },
        "outputId": "b0f1d7ad-3620-4f27-b2f4-6bb06ae6aef7"
      },
      "outputs": [
        {
          "output_type": "stream",
          "name": "stdout",
          "text": [
            "Original List (Strings): ['10', '20', '30', '40.5', '50.8', '0', '']\n",
            "Converted to Integers: [10, 20, 30, 40, 50, 0]\n",
            "Converted to Floats: [10.0, 20.0, 30.0, 40.5, 50.8, 0.0]\n",
            "Converted to Booleans: [True, True, True, True, True, False, False]\n"
          ]
        }
      ],
      "source": [
        "# List of string numbers\n",
        "str_list = [\"10\", \"20\", \"30\", \"40.5\", \"50.8\", \"0\", \"\"]\n",
        "\n",
        "# Converting all elements to integers (handling floats first)\n",
        "try:\n",
        "    int_list = [int(float(num)) for num in str_list if num.strip() != \"\"]  # Ignores empty strings\n",
        "except ValueError as e:\n",
        "    print(\"Error converting to integers:\", e)\n",
        "\n",
        "# Converting all elements to floats\n",
        "float_list = [float(num) for num in str_list if num.strip() != \"\"]\n",
        "\n",
        "# Converting all elements to boolean\n",
        "bool_list = [bool(float(num)) if num.strip() != \"\" else False for num in str_list]\n",
        "\n",
        "# Displaying results\n",
        "print(\"Original List (Strings):\", str_list)\n",
        "print(\"Converted to Integers:\", int_list)\n",
        "print(\"Converted to Floats:\", float_list)\n",
        "print(\"Converted to Booleans:\", bool_list)\n"
      ]
    },
    {
      "cell_type": "markdown",
      "source": [
        "**11.Write a program that checks if a number is positive, negative, or zero**\n",
        "\n",
        "  This program takes a number as input and determines whether it is positive, negative, or zero.\n",
        "\n"
      ],
      "metadata": {
        "id": "8C7Vu--E2-ac"
      }
    },
    {
      "cell_type": "markdown",
      "source": [],
      "metadata": {
        "id": "NmWbVZ6uoXr5"
      }
    },
    {
      "cell_type": "code",
      "source": [
        "# Taking user input\n",
        "num = float(input(\"Enter a number: \"))\n",
        "\n",
        "# Checking the number\n",
        "if num > 0:\n",
        "    print(\"✅ The number is Positive.\")\n",
        "elif num < 0:\n",
        "    print(\"❌ The number is Negative.\")\n",
        "else:\n",
        "    print(\"⚪ The number is Zero.\")\n"
      ],
      "metadata": {
        "colab": {
          "base_uri": "https://localhost:8080/"
        },
        "id": "69cF9dv76c0j",
        "outputId": "2e209da9-696b-43ac-bdea-b8dbc0055069"
      },
      "execution_count": 17,
      "outputs": [
        {
          "output_type": "stream",
          "name": "stdout",
          "text": [
            "Enter a number: 25\n",
            "✅ The number is Positive.\n"
          ]
        }
      ]
    },
    {
      "cell_type": "markdown",
      "source": [
        "**12. Write a for loop to print numbers from 1 to 100**\n",
        "\n"
      ],
      "metadata": {
        "id": "lTMKHzcsoZ1h"
      }
    },
    {
      "cell_type": "code",
      "source": [
        "# Using a for loop to print numbers from 1 to 100\n",
        "for num in range(1, 101):  # range(start, stop) → stop is exclusive\n",
        "    print(num)\n"
      ],
      "metadata": {
        "colab": {
          "base_uri": "https://localhost:8080/"
        },
        "id": "FvOUvOMpoiOm",
        "outputId": "0aad2162-5ce4-4f12-e13b-99fd7788beb1"
      },
      "execution_count": 1,
      "outputs": [
        {
          "output_type": "stream",
          "name": "stdout",
          "text": [
            "1\n",
            "2\n",
            "3\n",
            "4\n",
            "5\n",
            "6\n",
            "7\n",
            "8\n",
            "9\n",
            "10\n",
            "11\n",
            "12\n",
            "13\n",
            "14\n",
            "15\n",
            "16\n",
            "17\n",
            "18\n",
            "19\n",
            "20\n",
            "21\n",
            "22\n",
            "23\n",
            "24\n",
            "25\n",
            "26\n",
            "27\n",
            "28\n",
            "29\n",
            "30\n",
            "31\n",
            "32\n",
            "33\n",
            "34\n",
            "35\n",
            "36\n",
            "37\n",
            "38\n",
            "39\n",
            "40\n",
            "41\n",
            "42\n",
            "43\n",
            "44\n",
            "45\n",
            "46\n",
            "47\n",
            "48\n",
            "49\n",
            "50\n",
            "51\n",
            "52\n",
            "53\n",
            "54\n",
            "55\n",
            "56\n",
            "57\n",
            "58\n",
            "59\n",
            "60\n",
            "61\n",
            "62\n",
            "63\n",
            "64\n",
            "65\n",
            "66\n",
            "67\n",
            "68\n",
            "69\n",
            "70\n",
            "71\n",
            "72\n",
            "73\n",
            "74\n",
            "75\n",
            "76\n",
            "77\n",
            "78\n",
            "79\n",
            "80\n",
            "81\n",
            "82\n",
            "83\n",
            "84\n",
            "85\n",
            "86\n",
            "87\n",
            "88\n",
            "89\n",
            "90\n",
            "91\n",
            "92\n",
            "93\n",
            "94\n",
            "95\n",
            "96\n",
            "97\n",
            "98\n",
            "99\n",
            "100\n"
          ]
        }
      ]
    },
    {
      "cell_type": "markdown",
      "source": [
        "**13. Write a Python program to find the sum of all even numbers between 1 and 50**\n",
        "\n"
      ],
      "metadata": {
        "id": "EJc-sP4co7M8"
      }
    },
    {
      "cell_type": "code",
      "source": [
        "# Initialize sum variable\n",
        "sum_even = 0\n",
        "\n",
        "# Loop through numbers from 1 to 50\n",
        "for num in range(2, 51, 2):  # Start from 2, step by 2 (even numbers)\n",
        "    sum_even += num  # Add even number to sum\n",
        "\n",
        "# Display the result\n",
        "print(\"The sum of all even numbers between 1 and 50 is:\", sum_even)\n"
      ],
      "metadata": {
        "colab": {
          "base_uri": "https://localhost:8080/"
        },
        "id": "JBSw43o7pNRK",
        "outputId": "3763e108-5877-4e5e-8df3-3768ebe48220"
      },
      "execution_count": 2,
      "outputs": [
        {
          "output_type": "stream",
          "name": "stdout",
          "text": [
            "The sum of all even numbers between 1 and 50 is: 650\n"
          ]
        }
      ]
    },
    {
      "cell_type": "markdown",
      "source": [
        "**14. Write a program to reverse a string using a while loop**\n",
        "\n"
      ],
      "metadata": {
        "id": "y7lk4PcFpc3I"
      }
    },
    {
      "cell_type": "code",
      "source": [
        "# Taking user input\n",
        "text = input(\"Enter a string: \")\n",
        "\n",
        "# Initialize variables\n",
        "reversed_text = \"\"  # To store the reversed string\n",
        "index = len(text) - 1  # Start from the last character\n",
        "\n",
        "# Using while loop to reverse the string\n",
        "while index >= 0:\n",
        "    reversed_text += text[index]  # Append character to new string\n",
        "    index -= 1  # Move to the previous character\n",
        "\n",
        "# Display the reversed string\n",
        "print(\"Reversed string:\", reversed_text)\n"
      ],
      "metadata": {
        "colab": {
          "base_uri": "https://localhost:8080/"
        },
        "id": "I8eOypB9plGe",
        "outputId": "c09ffe54-3b3a-4aec-8f27-8b96305eb3e8"
      },
      "execution_count": 3,
      "outputs": [
        {
          "output_type": "stream",
          "name": "stdout",
          "text": [
            "Enter a string: python\n",
            "Reversed string: nohtyp\n"
          ]
        }
      ]
    },
    {
      "cell_type": "markdown",
      "source": [
        "**15. Write a Python program to calculate the factorial of a number provided by the user using a while loop.**\n",
        "\n",
        "\n",
        "\n"
      ],
      "metadata": {
        "id": "SMs0d5DeqBQn"
      }
    },
    {
      "cell_type": "code",
      "source": [
        "# Taking user input\n",
        "num = int(input(\"Enter a number: \"))\n",
        "\n",
        "# Initialize factorial variable\n",
        "factorial = 1\n",
        "\n",
        "# Initialize loop counter\n",
        "i = num\n",
        "\n",
        "# Using while loop to calculate factorial\n",
        "while i > 0:\n",
        "    factorial *= i  # Multiply current value\n",
        "    i -= 1  # Decrement counter\n",
        "\n",
        "# Display the result\n",
        "print(f\"The factorial of {num} is: {factorial}\")\n"
      ],
      "metadata": {
        "colab": {
          "base_uri": "https://localhost:8080/"
        },
        "id": "kgW2LeAbqJHv",
        "outputId": "8853e1f8-0050-40b3-d5a0-19315454a34c"
      },
      "execution_count": 4,
      "outputs": [
        {
          "output_type": "stream",
          "name": "stdout",
          "text": [
            "Enter a number: 5\n",
            "The factorial of 5 is: 120\n"
          ]
        }
      ]
    }
  ]
}